{
 "cells": [
  {
   "cell_type": "code",
   "execution_count": 1,
   "id": "96581ca0",
   "metadata": {},
   "outputs": [],
   "source": [
    "import numpy as np \n",
    "import pandas as pd\n",
    "import matplotlib as mlp\n",
    "import matplotlib.pyplot as plt\n",
    "%matplotlib inline"
   ]
  },
  {
   "cell_type": "code",
   "execution_count": 2,
   "id": "9a3fbaca",
   "metadata": {},
   "outputs": [],
   "source": [
    "import tensorflow as tf\n",
    "from tensorflow import keras"
   ]
  },
  {
   "cell_type": "code",
   "execution_count": 3,
   "id": "e77da0ba",
   "metadata": {},
   "outputs": [],
   "source": [
    "fashion_mnist = keras.datasets.fashion_mnist\n",
    "(x_train_full, y_train_full), (x_test, y_test) = fashion_mnist.load_data()"
   ]
  },
  {
   "cell_type": "code",
   "execution_count": 4,
   "id": "3be68e9a",
   "metadata": {},
   "outputs": [],
   "source": [
    "class_names = [\"T-shirt/top\", \"Trouser\", \"Pullover\", \"Dress\", \"Coat\",\n",
    "              \"Sandal\", \"Shirt\", \"Sneaker\", \"Bag\", \"Ankel boot\"]"
   ]
  },
  {
   "cell_type": "markdown",
   "id": "ddb8874b",
   "metadata": {},
   "source": [
    "# Data Reshape"
   ]
  },
  {
   "cell_type": "code",
   "execution_count": 5,
   "id": "b859700b",
   "metadata": {},
   "outputs": [],
   "source": [
    "x_train_full = x_train_full.reshape((60000, 28, 28, 1))\n",
    "x_test = x_test.reshape((10000, 28, 28, 1))"
   ]
  },
  {
   "cell_type": "code",
   "execution_count": 6,
   "id": "d36524f1",
   "metadata": {},
   "outputs": [],
   "source": [
    "x_train_n = x_train_full / 255.0\n",
    "x_test_n = x_test / 255.0"
   ]
  },
  {
   "cell_type": "code",
   "execution_count": 7,
   "id": "424ce58b",
   "metadata": {},
   "outputs": [],
   "source": [
    "x_valid, x_train = x_train_n[:5000], x_train_n[5000:]\n",
    "y_valid, y_train = y_train_full[:5000], y_train_full[5000:] \n",
    "x_test = x_test_n"
   ]
  },
  {
   "cell_type": "code",
   "execution_count": 8,
   "id": "124d66f6",
   "metadata": {},
   "outputs": [],
   "source": [
    "model = keras.models.Sequential()\n",
    "model.add(keras.layers.Conv2D(filters = 32, kernel_size=(3,3), strides=1, padding='valid', activation='relu', input_shape=(28,28,1)))\n",
    "model.add(keras.layers.MaxPooling2D(2, 2))\n",
    "\n",
    "model.add(keras.layers.Flatten())\n",
    "model.add(keras.layers.Dense(300, activation=\"relu\"))\n",
    "model.add(keras.layers.Dense(100, activation=\"relu\"))\n",
    "model.add(keras.layers.Dense(10, activation=\"softmax\"))"
   ]
  },
  {
   "cell_type": "code",
   "execution_count": 9,
   "id": "18efb457",
   "metadata": {},
   "outputs": [
    {
     "name": "stdout",
     "output_type": "stream",
     "text": [
      "Model: \"sequential\"\n",
      "_________________________________________________________________\n",
      " Layer (type)                Output Shape              Param #   \n",
      "=================================================================\n",
      " conv2d (Conv2D)             (None, 26, 26, 32)        320       \n",
      "                                                                 \n",
      " max_pooling2d (MaxPooling2D  (None, 13, 13, 32)       0         \n",
      " )                                                               \n",
      "                                                                 \n",
      " flatten (Flatten)           (None, 5408)              0         \n",
      "                                                                 \n",
      " dense (Dense)               (None, 300)               1622700   \n",
      "                                                                 \n",
      " dense_1 (Dense)             (None, 100)               30100     \n",
      "                                                                 \n",
      " dense_2 (Dense)             (None, 10)                1010      \n",
      "                                                                 \n",
      "=================================================================\n",
      "Total params: 1,654,130\n",
      "Trainable params: 1,654,130\n",
      "Non-trainable params: 0\n",
      "_________________________________________________________________\n"
     ]
    }
   ],
   "source": [
    "model.summary()"
   ]
  },
  {
   "cell_type": "code",
   "execution_count": 10,
   "id": "558509cb",
   "metadata": {},
   "outputs": [],
   "source": [
    "model.compile(loss=\"sparse_categorical_crossentropy\", optimizer=\"sgd\", metrics=[\"accuracy\"])"
   ]
  },
  {
   "cell_type": "code",
   "execution_count": null,
   "id": "b2629b71",
   "metadata": {},
   "outputs": [
    {
     "name": "stdout",
     "output_type": "stream",
     "text": [
      "Epoch 1/30\n",
      "860/860 [==============================] - 28s 32ms/step - loss: 0.8409 - accuracy: 0.7134 - val_loss: 0.6633 - val_accuracy: 0.7896\n",
      "Epoch 2/30\n",
      "860/860 [==============================] - 26s 30ms/step - loss: 0.5329 - accuracy: 0.8083 - val_loss: 0.5102 - val_accuracy: 0.8210\n",
      "Epoch 3/30\n",
      "860/860 [==============================] - 27s 32ms/step - loss: 0.4764 - accuracy: 0.8297 - val_loss: 0.4424 - val_accuracy: 0.8430\n",
      "Epoch 4/30\n",
      "860/860 [==============================] - 29s 34ms/step - loss: 0.4411 - accuracy: 0.8426 - val_loss: 0.4040 - val_accuracy: 0.8572\n",
      "Epoch 5/30\n",
      "860/860 [==============================] - 28s 33ms/step - loss: 0.4147 - accuracy: 0.8525 - val_loss: 0.4473 - val_accuracy: 0.8380\n",
      "Epoch 6/30\n",
      "860/860 [==============================] - 29s 34ms/step - loss: 0.3921 - accuracy: 0.8599 - val_loss: 0.4134 - val_accuracy: 0.8552\n",
      "Epoch 7/30\n",
      "860/860 [==============================] - 26s 30ms/step - loss: 0.3743 - accuracy: 0.8653 - val_loss: 0.3856 - val_accuracy: 0.8602\n",
      "Epoch 8/30\n",
      "860/860 [==============================] - 26s 30ms/step - loss: 0.3599 - accuracy: 0.8696 - val_loss: 0.3643 - val_accuracy: 0.8726\n",
      "Epoch 9/30\n",
      "860/860 [==============================] - 26s 31ms/step - loss: 0.3461 - accuracy: 0.8750 - val_loss: 0.4594 - val_accuracy: 0.8342\n",
      "Epoch 10/30\n",
      "860/860 [==============================] - 28s 32ms/step - loss: 0.3339 - accuracy: 0.8781 - val_loss: 0.3328 - val_accuracy: 0.8832\n",
      "Epoch 11/30\n",
      "860/860 [==============================] - 27s 31ms/step - loss: 0.3228 - accuracy: 0.8830 - val_loss: 0.3347 - val_accuracy: 0.8804\n",
      "Epoch 12/30\n",
      "860/860 [==============================] - 24s 28ms/step - loss: 0.3143 - accuracy: 0.8856 - val_loss: 0.3154 - val_accuracy: 0.8836\n",
      "Epoch 13/30\n",
      "860/860 [==============================] - 25s 29ms/step - loss: 0.3051 - accuracy: 0.8890 - val_loss: 0.3366 - val_accuracy: 0.8806\n",
      "Epoch 14/30\n",
      "860/860 [==============================] - 28s 33ms/step - loss: 0.2992 - accuracy: 0.8917 - val_loss: 0.3204 - val_accuracy: 0.8854\n",
      "Epoch 15/30\n",
      "860/860 [==============================] - 33s 38ms/step - loss: 0.2920 - accuracy: 0.8934 - val_loss: 0.3091 - val_accuracy: 0.8906\n",
      "Epoch 16/30\n",
      "860/860 [==============================] - 28s 32ms/step - loss: 0.2833 - accuracy: 0.8971 - val_loss: 0.2991 - val_accuracy: 0.8950\n",
      "Epoch 17/30\n",
      "860/860 [==============================] - 28s 32ms/step - loss: 0.2781 - accuracy: 0.8998 - val_loss: 0.3070 - val_accuracy: 0.8902\n",
      "Epoch 18/30\n",
      "860/860 [==============================] - 29s 34ms/step - loss: 0.2724 - accuracy: 0.9011 - val_loss: 0.2996 - val_accuracy: 0.8918\n",
      "Epoch 19/30\n",
      "860/860 [==============================] - 28s 32ms/step - loss: 0.2662 - accuracy: 0.9035 - val_loss: 0.2947 - val_accuracy: 0.8904\n",
      "Epoch 20/30\n",
      "860/860 [==============================] - 27s 31ms/step - loss: 0.2603 - accuracy: 0.9051 - val_loss: 0.3421 - val_accuracy: 0.8798\n",
      "Epoch 21/30\n",
      "860/860 [==============================] - 25s 30ms/step - loss: 0.2551 - accuracy: 0.9064 - val_loss: 0.2900 - val_accuracy: 0.8952\n",
      "Epoch 22/30\n",
      "860/860 [==============================] - 27s 31ms/step - loss: 0.2509 - accuracy: 0.9084 - val_loss: 0.3013 - val_accuracy: 0.8920\n",
      "Epoch 23/30\n",
      "860/860 [==============================] - 25s 29ms/step - loss: 0.2443 - accuracy: 0.9097 - val_loss: 0.2850 - val_accuracy: 0.8960\n",
      "Epoch 24/30\n",
      "860/860 [==============================] - 28s 33ms/step - loss: 0.2408 - accuracy: 0.9129 - val_loss: 0.2721 - val_accuracy: 0.9014\n",
      "Epoch 25/30\n",
      "860/860 [==============================] - 26s 30ms/step - loss: 0.2358 - accuracy: 0.9133 - val_loss: 0.2761 - val_accuracy: 0.9002\n",
      "Epoch 26/30\n",
      "860/860 [==============================] - 32s 37ms/step - loss: 0.2310 - accuracy: 0.9157 - val_loss: 0.2998 - val_accuracy: 0.8902\n",
      "Epoch 27/30\n",
      "860/860 [==============================] - 30s 35ms/step - loss: 0.2267 - accuracy: 0.9160 - val_loss: 0.2924 - val_accuracy: 0.8954\n",
      "Epoch 28/30\n",
      "860/860 [==============================] - 27s 31ms/step - loss: 0.2235 - accuracy: 0.9170 - val_loss: 0.2673 - val_accuracy: 0.9068\n",
      "Epoch 29/30\n",
      "860/860 [==============================] - 27s 31ms/step - loss: 0.2183 - accuracy: 0.9210 - val_loss: 0.2665 - val_accuracy: 0.9052\n",
      "Epoch 30/30\n",
      "274/860 [========>.....................] - ETA: 20s - loss: 0.2124 - accuracy: 0.9233"
     ]
    }
   ],
   "source": [
    "model_history = model.fit(x_train, y_train, epochs=30, batch_size=64,\n",
    "                         validation_data=(x_valid, y_valid))"
   ]
  },
  {
   "cell_type": "code",
   "execution_count": null,
   "id": "0f6dce39",
   "metadata": {},
   "outputs": [],
   "source": [
    "pd.DataFrame(model_history.history).plot(figsize=(8,5))\n",
    "plt.grid(True)\n",
    "plt.gca().set_ylim(0,1)\n",
    "plt.show()"
   ]
  },
  {
   "cell_type": "code",
   "execution_count": null,
   "id": "487502dd",
   "metadata": {},
   "outputs": [],
   "source": [
    "ev = model.evaluate(x_test_n, y_test)"
   ]
  },
  {
   "cell_type": "code",
   "execution_count": null,
   "id": "c34cdadf",
   "metadata": {},
   "outputs": [],
   "source": [
    "ev"
   ]
  },
  {
   "cell_type": "code",
   "execution_count": null,
   "id": "55da8f80",
   "metadata": {},
   "outputs": [],
   "source": [
    "x_new = x_test[:3]"
   ]
  },
  {
   "cell_type": "code",
   "execution_count": null,
   "id": "b62c0676",
   "metadata": {},
   "outputs": [],
   "source": [
    "y_pred = model.predict(x_new)\n",
    "y_pred = np.round(y_pred).astype(int)\n",
    "y_pred"
   ]
  },
  {
   "cell_type": "code",
   "execution_count": null,
   "id": "9005368d",
   "metadata": {},
   "outputs": [],
   "source": [
    "y_test[:3]"
   ]
  },
  {
   "cell_type": "code",
   "execution_count": null,
   "id": "a2ee9247",
   "metadata": {},
   "outputs": [],
   "source": [
    "print(plt.imshow(x_test[0].reshape((28,28))))"
   ]
  },
  {
   "cell_type": "code",
   "execution_count": null,
   "id": "ccc40328",
   "metadata": {},
   "outputs": [],
   "source": [
    "print(plt.imshow(x_test[1].reshape((28,28))))"
   ]
  },
  {
   "cell_type": "code",
   "execution_count": null,
   "id": "897906b9",
   "metadata": {},
   "outputs": [],
   "source": [
    "print(plt.imshow(x_test[2].reshape((28,28))))"
   ]
  },
  {
   "cell_type": "markdown",
   "id": "a1f1863a",
   "metadata": {},
   "source": [
    "Label     Description<br>\n",
    "0         T-shirt<br>\n",
    "1         Trouser<br>\n",
    "2         Pullover<br>\n",
    "3         Dress<br>\n",
    "4         Coat<br>\n",
    "5         Sandal<br>\n",
    "6         Shirt<br>\n",
    "7         Sneaker<br>\n",
    "8         Bag<br>\n",
    "9         Ankle boot<br>"
   ]
  },
  {
   "cell_type": "code",
   "execution_count": null,
   "id": "8b229530",
   "metadata": {},
   "outputs": [],
   "source": []
  }
 ],
 "metadata": {
  "kernelspec": {
   "display_name": "Python 3 (ipykernel)",
   "language": "python",
   "name": "python3"
  },
  "language_info": {
   "codemirror_mode": {
    "name": "ipython",
    "version": 3
   },
   "file_extension": ".py",
   "mimetype": "text/x-python",
   "name": "python",
   "nbconvert_exporter": "python",
   "pygments_lexer": "ipython3",
   "version": "3.9.7"
  }
 },
 "nbformat": 4,
 "nbformat_minor": 5
}
